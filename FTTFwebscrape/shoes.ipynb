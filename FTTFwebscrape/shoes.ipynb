{
 "cells": [
  {
   "cell_type": "code",
   "execution_count": null,
   "metadata": {},
   "outputs": [],
   "source": [
    "import requests\n",
    "from bs4 import BeautifulSoup\n",
    "import csv\n",
    "\n",
    "url = \"https://www.firsttothefinish.com/items.asp?Cc=fw_foot_throw&srsltid=AfmBOoo3qjncgVq9xiDqxnZHM-9r3VSFVWqFaS5nph2UDp-4QHtqBlFs\"\n",
    "headers = {\"User-Agent\": \"Mozilla/5.0\"}  \n",
    "response = requests.get(url, headers=headers)\n",
    "\n",
    "bsobj = BeautifulSoup(response.content, 'html.parser')\n",
    "\n",
    "shoe_titles = [shoe.get_text(strip=True) for shoe in bsobj.find_all(\"a\", href=True) if \"ItemMatrix.asp\" in shoe[\"href\"]]\n",
    "\n",
    "shoe_titles_cleaned = [ title for title in shoe_titles if title.strip()]\n",
    "\n",
    "prices = [\n",
    "    price.get_text(strip=True)\n",
    "    for price in bsobj.find_all(\"span\", class_=True)\n",
    "    if \"item-price\" in price[\"class\"]\n",
    "]\n",
    "\n",
    "# #Find description\n",
    "# descriptions = [\n",
    "#     info.get_text(strip=True)\n",
    "#     for info in bsobj.find_all(\"div\", itemprop=True)\n",
    "#     if 'description' in info.get('itemprop', '')\n",
    "# ]\n",
    "# descriptions\n"
   ]
  },
  {
   "cell_type": "code",
   "execution_count": null,
   "metadata": {},
   "outputs": [],
   "source": [
    "with open('Throwing_Shoes_Data.csv', 'a', newline='', encoding='utf-8') as csvfile:\n",
    "    writer = csv.writer(csvfile)\n",
    "    if csvfile.tell() == 0:\n",
    "        writer.writerow([\"Shoe Title\", \"Price\"])\n",
    "\n",
    "    for title, price in zip(shoe_titles_cleaned, prices):\n",
    "        shoe_name = title\n",
    "        shoe_price = price\n",
    "        writer.writerow([shoe_name, shoe_price])"
   ]
  }
 ],
 "metadata": {
  "kernelspec": {
   "display_name": "Python 3",
   "language": "python",
   "name": "python3"
  },
  "language_info": {
   "codemirror_mode": {
    "name": "ipython",
    "version": 3
   },
   "file_extension": ".py",
   "mimetype": "text/x-python",
   "name": "python",
   "nbconvert_exporter": "python",
   "pygments_lexer": "ipython3",
   "version": "3.11.9"
  }
 },
 "nbformat": 4,
 "nbformat_minor": 2
}
