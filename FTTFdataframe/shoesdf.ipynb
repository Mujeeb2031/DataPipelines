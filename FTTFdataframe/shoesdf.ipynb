{
 "cells": [
  {
   "cell_type": "code",
   "execution_count": null,
   "metadata": {},
   "outputs": [],
   "source": [
    "import pandas as pd\n",
    "from IPython.core.display import display, HTML\n",
    "\n",
    "throwing_shoes_df =  pd.read_csv('Throwing_Shoes_Data.csv')\n",
    "throwing_shoes_df"
   ]
  },
  {
   "cell_type": "code",
   "execution_count": 362,
   "metadata": {},
   "outputs": [],
   "source": [
    "throwing_shoes_df\n",
    "new_row  = pd.DataFrame({'Shoe Title': ['saucony unleashed sd 2 throw shoes'], 'Price' : ['$79.99']})\n",
    "throwing_shoes_df = pd.concat([throwing_shoes_df, new_row], ignore_index=True)\n"
   ]
  },
  {
   "cell_type": "code",
   "execution_count": 363,
   "metadata": {},
   "outputs": [],
   "source": [
    "adidas_indices = throwing_shoes_df[throwing_shoes_df['Shoe Title'] == 'adidas throwstar'].index\n",
    "for i, idx in enumerate(adidas_indices, start=1):\n",
    "    throwing_shoes_df.at[idx, 'Shoe Title'] = f'adidas throwstar {i}'"
   ]
  },
  {
   "cell_type": "code",
   "execution_count": null,
   "metadata": {},
   "outputs": [],
   "source": [
    "throwing_shoes_df['Shoe Title'] = throwing_shoes_df['Shoe Title'].replace(\n",
    "\n",
    "    {\n",
    "        '(1)' : 'ua centric grip unisex throw shoes',\n",
    "        'ua centric grip unisex throw shoes' : 'adidas throwstar3',\n",
    "        'adidas throwstar3' : 'asics hyper throw 3'\n",
    "\n",
    "    }\n",
    ")\n",
    "throwing_shoes_df\n"
   ]
  },
  {
   "cell_type": "code",
   "execution_count": null,
   "metadata": {},
   "outputs": [],
   "source": [
    "throwing_shoes_df.loc[\n",
    "    (throwing_shoes_df['Shoe Title'] == 'asics hyper throw 3') & (throwing_shoes_df['Price'] == '$79.99'),\n",
    "    'Price'\n",
    "] = '$45.00'\n",
    "\n",
    "\n",
    "throwing_shoes_df\n"
   ]
  },
  {
   "cell_type": "code",
   "execution_count": null,
   "metadata": {},
   "outputs": [],
   "source": [
    "throwing_shoes_df\n",
    "descriptions = [\n",
    "    \"The Unleash SD3 is designed for a thrower, by a thrower, and is ideal for the shot put, discus, and hammer throw. It combines FlexFilm overlays, supportive synthetics and a robust cross strap with a high density rubber outsole, giving the thrower the perfect blend of traction and speed for the rotation or glide techniques.\",\n",
    "    \"In the circle, power and speed are what send you to the podium. Step up to throw with total confidence in these adidas throw shoes. They pair springy Bounce cushioning with a rotational grip outsole to support rapid pivots. Feel supported and light during hammer, discus and shot put routines.\",\n",
    "    \"Features/Benefits: Ready for meet day. These adidas track shoes help you reach new PBs in shot put, discus and hammer throw events. They're designed for beginner and intermediate athletes with a locked-in fit that feels secure throughout the rotation. The upper rides on a textured outsole, which offers strong grip no matter the weather.\",\n",
    "    \"Ideal for the entry-level and intermediate athlete, the adidas throwstar is intended for shot put, discus and hammer throw events.\",\n",
    "    \"Engineered to work with for both glide and spin technique, the Hyper Throw® 3 track & field spike features an adjustable midfoot support strap for enhanced lockdown - to keep your momentum in the right direction. A smooth rubber pivot point makes rotation easier while the centrifugal flex groove makes for a smooth and easy transition when shifting weight during throws.\",\n",
    "    \"Embroidered engineered-upper is light, breathable & engages under force for a locked-in, powerful fit Rubber toe bumper for additional toe support, durability & protection UA HOVR™ cushioning & dynamic Energy Web provides 'zero gravity feel' to maintain energy return & eliminate impact Pebax™ midfoot shank provides structure & support for more efficient foot-strike Added medial support in the outsole rim helps keep the foot centered & eliminate inefficient movement Durable, cupped outsole surrounds the foot to provide stability & grip for smooth & powerful rotational\",\n",
    "    \"Ready for meet day. These Adidas throw shoes help you reach new PBs in shot put, discus and hammer throw events. They're designed for beginner and intermediate athletes with a locked-in fit that feels secure throughout the rotation. The upper rides on a textured out-sole, which offers strong grip no matter the weather.\",\n",
    "    \"Engineered to work with for both glide and spin technique, the Hyper Throw® 3 track & field throwing shoes feature an adjustable midfoot support strap for enhanced lockdown - to keep your momentum in the right direction. A smooth rubber pivot point makes rotation easier while the centrifugal flex groove makes for a smooth and easy transition when shifting weight during throws.\",\n",
    "    \"Lock in and Unleash. The SD2 version of this ride features ISOFIT technology that improves the overall fit and feel and is made for the shot put, discus and hammer throw. Overview\"\n",
    "]\n",
    "descriptions_series = pd.Series(descriptions, name=\"Descriptions\")\n",
    "throwing_shoes_df[\"Description\"] = descriptions_series\n",
    "throwing_shoes_df\n"
   ]
  },
  {
   "cell_type": "code",
   "execution_count": 370,
   "metadata": {},
   "outputs": [],
   "source": [
    "throwing_shoes_df.loc[\n",
    "    (throwing_shoes_df['Shoe Title'] == 'saucony unleashed sd 2 throw shoes') & (pd.isna(throwing_shoes_df['Description'])),\n",
    "    'Description'\n",
    "] = 'Lock in and Unleash. The SD2 version of this ride features ISOFIT technology that improves the overall fit and feel and is made for the shot put, discus and hammer throw.'\n"
   ]
  },
  {
   "cell_type": "code",
   "execution_count": 372,
   "metadata": {},
   "outputs": [],
   "source": [
    "throwing_shoes_df.drop(7, axis=0, inplace=True)  \n",
    "throwing_shoes_df.reset_index(drop=True, inplace=True)  \n"
   ]
  },
  {
   "cell_type": "code",
   "execution_count": null,
   "metadata": {},
   "outputs": [],
   "source": [
    "Image_url = [\n",
    "    \"https://95333295fb3eebdbd0bc-306d86c4e38f036f2a3a0fc90b51f033.ssl.cf1.rackcdn.com/s29109-01_hero.jpg\",\n",
    "    \"https://95333295fb3eebdbd0bc-306d86c4e38f036f2a3a0fc90b51f033.ssl.cf1.rackcdn.com/ig2023-adizero-throws.jpg\",\n",
    "    \"https://95333295fb3eebdbd0bc-306d86c4e38f036f2a3a0fc90b51f033.ssl.cf1.rackcdn.com/if1241.jpg\",\n",
    "    \"https://95333295fb3eebdbd0bc-306d86c4e38f036f2a3a0fc90b51f033.ssl.cf1.rackcdn.com/id7229_heroshot.jpg\",\n",
    "    \"https://95333295fb3eebdbd0bc-306d86c4e38f036f2a3a0fc90b51f033.ssl.cf1.rackcdn.com/g507y-003_heroshot.jpg\",\n",
    "    \"https://95333295fb3eebdbd0bc-306d86c4e38f036f2a3a0fc90b51f033.ssl.cf1.rackcdn.com/3021862-003-ua-hero.jpg\",\n",
    "    \"https://95333295fb3eebdbd0bc-306d86c4e38f036f2a3a0fc90b51f033.ssl.cf1.rackcdn.com/gx6687_hero_2023.jpg\",\n",
    "    \"https://95333295fb3eebdbd0bc-306d86c4e38f036f2a3a0fc90b51f033.ssl.cf1.rackcdn.com/g507y-002_hero.jpg\",\n",
    "    \"https://95333295fb3eebdbd0bc-306d86c4e38f036f2a3a0fc90b51f033.ssl.cf1.rackcdn.com/s29035-2-saucony-unleash-sd.jpg\"\n",
    "]\n",
    "\n",
    "image_series_df = pd.Series(Image_url, name=\"Image URL\")"
   ]
  },
  {
   "cell_type": "code",
   "execution_count": null,
   "metadata": {},
   "outputs": [],
   "source": [
    "def make_clickable_image(image_url):\n",
    "    return f'<img src=\"{image_url}\" width=\"120\" height=\"120\" style=\"border-radius:10px;\"/>'\n",
    "image_series_df = image_series_df.apply(make_clickable_image)\n",
    "throwing_shoes_df[\"Image\"] = image_series_df\n",
    "display(HTML(throwing_shoes_df.to_html(escape=False)))"
   ]
  },
  {
   "cell_type": "code",
   "execution_count": null,
   "metadata": {},
   "outputs": [],
   "source": [
    "columns = ['Image'] + [col for col in throwing_shoes_df.columns if col != 'Image']\n",
    "throwing_shoes_df = throwing_shoes_df[columns]\n",
    "display(HTML(throwing_shoes_df.to_html(escape=False)))\n"
   ]
  },
  {
   "cell_type": "code",
   "execution_count": null,
   "metadata": {},
   "outputs": [],
   "source": [
    "# throwing_shoes_df.to_csv('_fttf_df_throwingshoe_data.csv', index=False)"
   ]
  },
  {
   "cell_type": "code",
   "execution_count": null,
   "metadata": {},
   "outputs": [
    {
     "name": "stdout",
     "output_type": "stream",
     "text": [
      "File _fttf_df_throwingshoe_data.csv uploaded successfully to fttfdata\n"
     ]
    }
   ],
   "source": [
    "import boto3\n",
    "\n",
    "s3 = boto3.client('s3')\n",
    "bucket_name = 'fttfdata'\n",
    "file_name = '_fttf_df_throwingshoe_data.csv'\n",
    "file_path = r'C:\\Users\\mujee\\Desktop\\Throwing_Shoe_ETL\\FTTFdataframe\\_fttf_df_throwingshoe_data.csv'\n",
    "s3.upload_file(file_path, bucket_name, file_name)\n",
    "print(f\"File {file_name} uploaded successfully to {bucket_name}\")\n"
   ]
  }
 ],
 "metadata": {
  "kernelspec": {
   "display_name": "Python 3",
   "language": "python",
   "name": "python3"
  },
  "language_info": {
   "codemirror_mode": {
    "name": "ipython",
    "version": 3
   },
   "file_extension": ".py",
   "mimetype": "text/x-python",
   "name": "python",
   "nbconvert_exporter": "python",
   "pygments_lexer": "ipython3",
   "version": "3.11.9"
  }
 },
 "nbformat": 4,
 "nbformat_minor": 2
}
